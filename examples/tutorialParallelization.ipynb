{
 "cells": [
  {
   "cell_type": "markdown",
   "metadata": {},
   "source": [
    "# Tutorial on Parallelization\n",
    "\n",
    "This tutorial shows how to use jInv to parallelize evaluations of your forward operator. We will see three modes for coputing the forward problems\n",
    "\n",
    "1. Putting all sources into a single `ForwardProbType` gives a single forward problem that is evaluated by one worker. \n",
    "1. Creating multiple instances of `ForwardProbType` each containing a subset of sources and storing them in an Array the forward problems are solved in parallel and the assignment of problems to workers is created dynamically.\n",
    "1. Creating one `ForwardProbType` per worker and dividing the sources among them yields an array of `RemoteChannel` objects. The assignment is created prior to running the problem and then kept fixed. We refer to this as *static scheduling*. \n",
    "\n",
    "All of the above strategies give the same results and can be used with the same syntax `getData(model,pFor)` thanks to Julia's multiple dispatch. The optimal choice depends on the characteristics of the problem at hand as well as on the available computational resources. \n",
    "\n",
    "## References\n",
    "\n",
    "Please refer to [1] for a detailed description of the parallelization strategies in jInv. The fast marching method used to solve the Eikonal equation is presented in [2]. The test data used here is generated using jInv and based on the 3D SEG/EAGE model of a salt reservoir described in [3].\n",
    "\n",
    "[1]  Ruthotto L, Treister E, Haber E: [jInv - a flexible Julia package for PDE parameter estimation](http://arxiv.org/abs/1606.07399), arXiv:1606.0739 [cs.MS] 2016\n",
    "\n",
    "[2] Treister E, Haber E: [A fast marching algorithm for the factored eikonal equation](http://dx.doi.org/10.1016/j.jcp.2016.08.012), Journal of Computational Physics, 324(1), p. 210–225, 2016\n",
    "\n",
    "[3] F. Aminzadeh, B. Jean, and T. Kunz. 3-D salt and overthrust models. Society of Exploration Geophysicists, 1997.\n",
    "\n",
    "\n",
    "## Add workers and load required packages\n",
    "\n",
    "Before we start, we should add workers to the session. Here, we add local workers, however, the workers added could also be on remote computers (see also [Julia Documentation](http://docs.julialang.org/en/latest/manual/parallel-computing/))"
   ]
  },
  {
   "cell_type": "code",
   "execution_count": 1,
   "metadata": {
    "collapsed": false
   },
   "outputs": [
    {
     "data": {
      "text/plain": [
       "8-element Array{Int64,1}:\n",
       " 2\n",
       " 3\n",
       " 4\n",
       " 5\n",
       " 6\n",
       " 7\n",
       " 8\n",
       " 9"
      ]
     },
     "execution_count": 1,
     "metadata": {},
     "output_type": "execute_result"
    }
   ],
   "source": [
    "addprocs(8)"
   ]
  },
  {
   "cell_type": "code",
   "execution_count": 2,
   "metadata": {
    "collapsed": true
   },
   "outputs": [],
   "source": [
    "using MAT\n",
    "using EikonalInv\n",
    "using jInv.Mesh\n",
    "using jInv.ForwardShare\n",
    "using jInv.Utils\n",
    "using Test"
   ]
  },
  {
   "cell_type": "markdown",
   "metadata": {},
   "source": [
    "## Load test data and setup mesh\n",
    "\n",
    "Here, we use the test data for a travel time tomography experiment stored in `exEikonal.mat` "
   ]
  },
  {
   "cell_type": "code",
   "execution_count": 3,
   "metadata": {
    "collapsed": false
   },
   "outputs": [],
   "source": [
    "matfile   = matread(\"exEikonal.mat\")\n",
    "Receivers = matfile[\"Receivers\"]# sparse matrix of discrete receivers\n",
    "Sources   = matfile[\"Sources\"] # sparse matrix of discrete sources\n",
    "slowref   = matfile[\"slowref\"] # reference slowness, serves as starting guess;\n",
    "domain    = matfile[\"domain\"]\n",
    "n         = matfile[\"n\"]\n",
    "\n",
    "# set up mesh\n",
    "h           = (domain[2:2:end]-domain[1:2:end])./n\n",
    "domainNodal = copy(domain); domainNodal[1:2:end] += h./2; domainNodal[2:2:end] -= h./2\n",
    "Mfwd        = getRegularMesh(domain,n-1);\n"
   ]
  },
  {
   "cell_type": "markdown",
   "metadata": {},
   "source": [
    "## Option 1) Single Forward Problem  -> Serial Computation\n",
    "\n",
    "The simplest way to evaluate the forward operator and simulate data is by generating a single `EikonalInvParam` containing all sources. This way, there is no parallelization except the one included in the method for solving the forward problem, which in the case of fast marching means almost no parallelization. "
   ]
  },
  {
   "cell_type": "code",
   "execution_count": 5,
   "metadata": {
    "collapsed": false
   },
   "outputs": [
    {
     "name": "stdout",
     "output_type": "stream",
     "text": [
      "  7.562552 seconds (97.03 M allocations: 1.527 GB, 2.13% gc time)\n"
     ]
    }
   ],
   "source": [
    "pFor = getEikonalInvParam(Mfwd,Sources,Receivers,false,false);\n",
    "\n",
    "@time dobs,pFor = getData(slowref,pFor);\n"
   ]
  },
  {
   "cell_type": "markdown",
   "metadata": {},
   "source": [
    "## Option 2) Array of Forward Problems --> Dynamic Scheduling\n",
    "\n",
    "The second, more advanced option is to divide the sources into different instances of `EikonalInvParam` and use dynamic scheduling. Note that simulating the data can be done independently for different sources. Thus, when computing the data, the problems are spawned out dynamically to the next available worker. Thereby latency times are limited, however, all data required to solve the problem (including meshes, differential operators, etc) need to be sent to the remote worker. "
   ]
  },
  {
   "cell_type": "code",
   "execution_count": 7,
   "metadata": {
    "collapsed": false
   },
   "outputs": [
    {
     "name": "stdout",
     "output_type": "stream",
     "text": [
      "  2.411892 seconds (56.13 k allocations: 86.586 MB, 1.15% gc time)\n"
     ]
    },
    {
     "data": {
      "text/plain": [
       "Test Passed\n",
       "  Expression: norm(dobsp - dobs) / norm(dobs) < 1.0e-14\n",
       "   Evaluated: 0.0 < 1.0e-14"
      ]
     },
     "execution_count": 7,
     "metadata": {},
     "output_type": "execute_result"
    }
   ],
   "source": [
    "pForp = Array{EikonalInvParam}(size(Sources,2))\n",
    "\n",
    "for k=1:size(Sources,2)\n",
    "    pForp[k] = getEikonalInvParam(Mfwd,SparseMatrixCSC(Sources[:,k]),Receivers,false,false)\n",
    "end\n",
    "@time begin\n",
    "    # solve forward problems in parallel\n",
    "    dobspFuture,pForp = getData(slowref,pForp);\n",
    "\n",
    "    # fetch results from workers\n",
    "    dobsp = zeros(size(Receivers,2),size(Sources,2))\n",
    "    for k=1:size(Sources,2)\n",
    "        dobsp[:,k] = fetch(dobspFuture[k])\n",
    "    end\n",
    "end\n",
    "\n",
    "# make sure that results corresponds to serial computation\n",
    "@test norm(dobsp-dobs)/norm(dobs) < 1e-14"
   ]
  },
  {
   "cell_type": "markdown",
   "metadata": {},
   "source": [
    "## Option 3) Array of RemoteChannels --> Static Scheduling\n",
    "\n",
    "A third option is to divide the sources among the available workers *before* calling the forward problem and then keeping the assignmnent fixed. We refer to this as *static scheduling*. Here, the `EikonalInvParam` is actually initialized on the remote worker and does not need to be sent back and forth. This way communication is kept at a minimum, but latency times might occur if some problems take longer to solve than others."
   ]
  },
  {
   "cell_type": "code",
   "execution_count": 9,
   "metadata": {
    "collapsed": false
   },
   "outputs": [
    {
     "name": "stdout",
     "output_type": "stream",
     "text": [
      "  2.373038 seconds (3.26 k allocations: 2.151 MB)\n"
     ]
    },
    {
     "data": {
      "text/plain": [
       "Test Passed\n",
       "  Expression: norm(dobsr - dobs) / norm(dobs) < 1.0e-14\n",
       "   Evaluated: 0.0 < 1.0e-14"
      ]
     },
     "execution_count": 9,
     "metadata": {},
     "output_type": "execute_result"
    }
   ],
   "source": [
    "pForr = Array{RemoteChannel}(nworkers())\n",
    "\n",
    "\n",
    "# create forward problems on remote workers\n",
    "SourcesSubInd = Array{Any}(nworkers())\n",
    "for k=1:nworkers()\n",
    "    SourcesSubInd[k] = collect(k:nworkers():size(Sources,2))\n",
    "    pForr[k] = initRemoteChannel(getEikonalInvParam, workers()[k], Mfwd,Sources[:,SourcesSubInd[k]],Receivers,false,false) \n",
    "end\n",
    "\n",
    "@time begin\n",
    "    # solve forward problems in parallel\n",
    "    dobsrFuture,pForr = getData(slowref,pForr);\n",
    "    \n",
    "    # fetch results\n",
    "    dobsr = zeros(size(Receivers,2),size(Sources,2))\n",
    "    for k=1:nworkers()\n",
    "        dobsr[:,SourcesSubInd[k]] = fetch(dobsrFuture[k])\n",
    "    end   \n",
    "end\n",
    "\n",
    "# make sure that results corresponds to serial computation\n",
    "@test norm(dobsr-dobs)/norm(dobs) < 1e-14"
   ]
  },
  {
   "cell_type": "code",
   "execution_count": null,
   "metadata": {
    "collapsed": true
   },
   "outputs": [],
   "source": []
  }
 ],
 "metadata": {
  "kernelspec": {
   "display_name": "Julia 0.5.0",
   "language": "julia",
   "name": "julia-0.5"
  },
  "language_info": {
   "file_extension": ".jl",
   "mimetype": "application/julia",
   "name": "julia",
   "version": "0.5.1"
  }
 },
 "nbformat": 4,
 "nbformat_minor": 0
}
